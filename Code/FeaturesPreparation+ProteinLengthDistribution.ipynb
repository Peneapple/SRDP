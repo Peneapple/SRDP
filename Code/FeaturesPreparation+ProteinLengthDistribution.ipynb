{
 "cells": [
  {
   "cell_type": "markdown",
   "id": "d2b7167b",
   "metadata": {},
   "source": [
    "### Processing Homo CDS DNA Seq by DNA-BERT "
   ]
  },
  {
   "cell_type": "code",
   "execution_count": 19,
   "id": "b3aa2358",
   "metadata": {},
   "outputs": [],
   "source": [
    "from Bio import SeqIO\n",
    "\n",
    "def extract_gene_symbol(description):\n",
    "    parts = description.split(' ')\n",
    "    for part in parts:\n",
    "        if part.startswith('gene_symbol:'):\n",
    "            return part.split(':')[1]\n",
    "    return None\n",
    "\n",
    "fasta_file = \"Homocdsall.fasta\"  \n",
    "\n",
    "cds_dic = {}\n",
    "for record in SeqIO.parse(fasta_file, \"fasta\"):\n",
    "    gene_symbol = extract_gene_symbol(record.description)\n",
    "    cds_dic[gene_symbol] = str(record.seq)"
   ]
  },
  {
   "cell_type": "code",
   "execution_count": 20,
   "id": "848ea8a4",
   "metadata": {},
   "outputs": [
    {
     "data": {
      "text/plain": [
       "19853"
      ]
     },
     "execution_count": 20,
     "metadata": {},
     "output_type": "execute_result"
    }
   ],
   "source": [
    "len(cds_dic)"
   ]
  },
  {
   "cell_type": "code",
   "execution_count": 21,
   "id": "f77552b9",
   "metadata": {},
   "outputs": [
    {
     "name": "stdout",
     "output_type": "stream",
     "text": [
      "TRDD1 GAAATAGT\n",
      "TRDD3 ACTGGGGGATACG\n",
      "TRDD2 CCTTCCTAC\n",
      "TRBD1 GGGACAGGGGGC\n",
      "None NACCCTCCCCTGAAGAACGTGTCCAGCAACGCAGAGTGCCCTGCTTGTTATGAATCTAATGGAACTTCCTGTCATGGGAAGCCCTGGAAATGCTATGAAGAAGAACAGTGTGTCTTTCTAGTTGCAGAACTTAAGAATGGAACACCAGGTGATGGTGCAGATTGA\n",
      "IGHD1OR15-1A GGTATAACTGGAACAAC\n",
      "IGHD5OR15-5A GTGGATATAGTGTCTACGATTAC\n",
      "IGHD2OR15-2A AGAATATTGTAATAGTACTACTTTCTATGCC\n",
      "IGHD5OR15-5B GTGGATATAGTGTCTACGATTAC\n",
      "IGHD2OR15-2B AGAATATTGTAATAGTACTACTTTCTATGCC\n"
     ]
    }
   ],
   "source": [
    "a = 0\n",
    "for k, v in cds_dic.items():\n",
    "    a += 1\n",
    "    print(k,v)\n",
    "    if a ==10:\n",
    "        break"
   ]
  },
  {
   "cell_type": "code",
   "execution_count": null,
   "id": "402edad0",
   "metadata": {},
   "outputs": [],
   "source": [
    "# DNA-BERT-2\n",
    "import os\n",
    "\n",
    "os.environ['TRANSFORMERS_OFFLINE'] = '1'\n",
    "\n",
    "# change to your directory installed BERT-2\n",
    "tokenizer = AutoTokenizer.from_pretrained(\"/data1/jhhou/network/DNA-BERT/DNABERT-2-117M\", trust_remote_code=True)\n",
    "model = AutoModel.from_pretrained(\"/data1/jhhou/network/DNA-BERT/DNABERT-2-117M\", trust_remote_code=True).to(device)\n",
    "\n",
    "model.eval()\n",
    "\n",
    "cds_features_dic = {}\n",
    "\n",
    "with torch.no_grad():\n",
    "    for k, v in tqdm(cds_dic.items()):\n",
    "    \n",
    "        torch.cuda.empty_cache()\n",
    "\n",
    "        dna = v\n",
    "        \n",
    "        inputs = tokenizer(dna, return_tensors = 'pt')[\"input_ids\"]\n",
    "        inputs = inputs.to(device)\n",
    "        hidden_states = model(inputs)[0] # [1, sequence_length, 768]\n",
    "\n",
    "        # embedding with mean pooling\n",
    "        embedding_mean = torch.mean(hidden_states[0], dim=0)\n",
    "\n",
    "        cds_features_dic[k] = embedding_mean.cpu()"
   ]
  },
  {
   "cell_type": "code",
   "execution_count": 22,
   "id": "62c65b75",
   "metadata": {},
   "outputs": [],
   "source": [
    "import pickle"
   ]
  },
  {
   "cell_type": "code",
   "execution_count": null,
   "id": "540045e5",
   "metadata": {},
   "outputs": [],
   "source": [
    "''''\n",
    "with open('cds_DNA_features_dic.pkl', 'wb') as f:\n",
    "    pickle.dump(cds_features_dic, f)"
   ]
  },
  {
   "cell_type": "code",
   "execution_count": 24,
   "id": "a4b3f134",
   "metadata": {},
   "outputs": [
    {
     "name": "stderr",
     "output_type": "stream",
     "text": [
      "/data1/xpgeng/.conda/envs/pytorch/lib/python3.8/site-packages/tqdm/auto.py:21: TqdmWarning: IProgress not found. Please update jupyter and ipywidgets. See https://ipywidgets.readthedocs.io/en/stable/user_install.html\n",
      "  from .autonotebook import tqdm as notebook_tqdm\n"
     ]
    }
   ],
   "source": [
    "with open('cds_DNA_features_dic.pkl', 'rb') as f:    \n",
    "    cds_features_dic = pickle.load(f)"
   ]
  },
  {
   "cell_type": "code",
   "execution_count": 25,
   "id": "19e0ce97",
   "metadata": {},
   "outputs": [
    {
     "data": {
      "text/plain": [
       "torch.Size([768])"
      ]
     },
     "execution_count": 25,
     "metadata": {},
     "output_type": "execute_result"
    }
   ],
   "source": [
    "cds_features_dic['ABL1'].shape"
   ]
  },
  {
   "cell_type": "markdown",
   "id": "d52a78c9",
   "metadata": {},
   "source": [
    "### Processing Homo CDS Protein Seq by Prottrans "
   ]
  },
  {
   "cell_type": "code",
   "execution_count": 26,
   "id": "97a4f3dc",
   "metadata": {},
   "outputs": [],
   "source": [
    "fasta_file = \"Homopepall.fasta\" \n",
    "\n",
    "pep_dic = {}\n",
    "for record in SeqIO.parse(fasta_file, \"fasta\"):\n",
    "    gene_symbol = extract_gene_symbol(record.description)\n",
    "    pep_dic[gene_symbol] = str(record.seq)"
   ]
  },
  {
   "cell_type": "code",
   "execution_count": 27,
   "id": "44efef8f",
   "metadata": {},
   "outputs": [
    {
     "data": {
      "text/plain": [
       "19853"
      ]
     },
     "execution_count": 27,
     "metadata": {},
     "output_type": "execute_result"
    }
   ],
   "source": [
    "len(pep_dic)"
   ]
  },
  {
   "cell_type": "code",
   "execution_count": null,
   "id": "af0c6172",
   "metadata": {},
   "outputs": [],
   "source": [
    "from bio_embeddings.embed import ProtTransBertBFDEmbedder\n",
    "import numpy as np\n",
    "from tqdm import tqdm\n",
    "\n",
    "# Initialize the embedder\n",
    "embedder = ProtTransBertBFDEmbedder()\n",
    "\n",
    "cds_pro_features_dic = {}\n",
    "\n",
    "for k,v in tqdm(pep_dic.items()):\n",
    "    \n",
    "    # Embed the sequence\n",
    "    embedding = embedder.embed(v)\n",
    "    \n",
    "    # Reduce the sequence embedding to a single vector of size 1024\n",
    "    reduced_embedding = np.mean(embedding, axis=0)\n",
    "    \n",
    "    cds_pro_features_dic[k] = reduced_embedding"
   ]
  },
  {
   "cell_type": "code",
   "execution_count": null,
   "id": "e314c318",
   "metadata": {},
   "outputs": [],
   "source": [
    "''''\n",
    "with open('cds_pro_features_dic.pkl', 'wb') as f:\n",
    "    pickle.dump(cds_pro_features_dic, f)"
   ]
  },
  {
   "cell_type": "code",
   "execution_count": 28,
   "id": "a7c4cb14",
   "metadata": {},
   "outputs": [],
   "source": [
    "with open('cds_pro_features_dic.pkl', 'rb') as f:    \n",
    "    cds_pro_features_dic = pickle.load(f)"
   ]
  },
  {
   "cell_type": "code",
   "execution_count": 29,
   "id": "b3c46210",
   "metadata": {},
   "outputs": [
    {
     "data": {
      "text/plain": [
       "19853"
      ]
     },
     "execution_count": 29,
     "metadata": {},
     "output_type": "execute_result"
    }
   ],
   "source": [
    "len(cds_pro_features_dic)"
   ]
  },
  {
   "cell_type": "markdown",
   "id": "2a3f0cad",
   "metadata": {},
   "source": [
    "### Protein pdb. file filtering "
   ]
  },
  {
   "cell_type": "code",
   "execution_count": 30,
   "id": "4e01c5e2",
   "metadata": {},
   "outputs": [
    {
     "name": "stdout",
     "output_type": "stream",
     "text": [
      "20291\n"
     ]
    }
   ],
   "source": [
    "# read excel and create name_alphafold_entry_dic\n",
    "import pandas as pd\n",
    "# Load spreadsheet\n",
    "xl = pd.ExcelFile('human_genename_AFid.xlsx')\n",
    "\n",
    "# Load a sheet into a DataFrame by name\n",
    "df = xl.parse(xl.sheet_names[0], skiprows=0)\n",
    "\n",
    "name_alphafold_entry_dic = {}\n",
    "\n",
    "for index, row in df.iterrows():\n",
    "    name_alphafold_entry_dic[row[0]] = row[1]\n",
    "    \n",
    "print(len(name_alphafold_entry_dic))"
   ]
  },
  {
   "cell_type": "code",
   "execution_count": 33,
   "id": "783e8d9f",
   "metadata": {},
   "outputs": [
    {
     "name": "stdout",
     "output_type": "stream",
     "text": [
      "Q86UQ4 ABCA13\n",
      "Q8IZF6 ADGRG4 GPR112\n",
      "Q8WXG9 ADGRV1 GPR98 KIAA0686 KIAA1943 MASS1 VLGR1\n",
      "Q09666 AHNAK PM227\n",
      "Q8IVF2 AHNAK2 C14orf78 KIAA2019\n",
      "Q12802 AKAP13 BRX HT31 LBC\n",
      "Q99996 AKAP9 AKAP350 AKAP450 KIAA0803\n",
      "Q8TCU4 ALMS1 KIAA0328\n",
      "Q01484 ANK2 ANKB\n",
      "Q12955 ANK3\n"
     ]
    }
   ],
   "source": [
    "a = 0\n",
    "for k, v in name_alphafold_entry_dic.items():\n",
    "    a += 1\n",
    "    print(k,v)\n",
    "    if a ==10:\n",
    "        break"
   ]
  },
  {
   "cell_type": "code",
   "execution_count": 34,
   "id": "c971828a",
   "metadata": {},
   "outputs": [
    {
     "name": "stderr",
     "output_type": "stream",
     "text": [
      " 54%|█████████████████████████████▋                         | 10713/19853 [03:09<01:42, 89.28it/s]"
     ]
    },
    {
     "name": "stdout",
     "output_type": "stream",
     "text": [
      "None\n"
     ]
    },
    {
     "name": "stderr",
     "output_type": "stream",
     "text": [
      "100%|███████████████████████████████████████████████████████| 19853/19853 [06:07<00:00, 53.97it/s]\n"
     ]
    }
   ],
   "source": [
    "name_entry_dic = {}\n",
    "from tqdm import tqdm\n",
    "cds_gene_list = []\n",
    "for k,v in cds_dic.items():       \n",
    "        cds_gene_list.append(k)\n",
    "cds_gene_list = list(set(cds_gene_list))\n",
    "\n",
    "for i in tqdm(cds_gene_list):\n",
    "    try:\n",
    "        \n",
    "        for k,v in name_alphafold_entry_dic.items():       \n",
    "            if i in v:\n",
    "                name_entry_dic[i] = k\n",
    "    except:\n",
    "        print(i)"
   ]
  },
  {
   "cell_type": "code",
   "execution_count": 35,
   "id": "8b261fde",
   "metadata": {},
   "outputs": [
    {
     "name": "stdout",
     "output_type": "stream",
     "text": [
      "GPR61 Q9BZJ8\n",
      "CCDC115 Q96NT0\n",
      "UTS2B Q765I0\n",
      "AGTPBP1 Q9UPW5\n",
      "MED4 Q9NPJ6\n",
      "DEFB128 Q7Z7B8\n",
      "VPS4A Q9UN37\n",
      "ZNF486 Q96H40\n",
      "GFOD2 Q6N063\n",
      "PIGX Q8TBF5\n"
     ]
    }
   ],
   "source": [
    "a = 0\n",
    "for k, v in name_entry_dic.items():\n",
    "    a += 1\n",
    "    print(k,v)\n",
    "    if a ==10:\n",
    "        break"
   ]
  },
  {
   "cell_type": "code",
   "execution_count": 36,
   "id": "2471dedb",
   "metadata": {},
   "outputs": [],
   "source": [
    "from Bio.PDB import PDBParser\n",
    "from Bio.PDB.DSSP import DSSP\n",
    "from scipy.spatial import distance_matrix"
   ]
  },
  {
   "cell_type": "markdown",
   "id": "96da4f8f",
   "metadata": {},
   "source": [
    "### Protein Structure Phi and Psi + Distance Matrix"
   ]
  },
  {
   "cell_type": "markdown",
   "id": "45f0d338",
   "metadata": {},
   "source": [
    "#### plot cds length distribution "
   ]
  },
  {
   "cell_type": "code",
   "execution_count": 52,
   "id": "5e05699b",
   "metadata": {},
   "outputs": [
    {
     "data": {
      "image/png": "[encoded data removed]",
      "text/plain": [
       "<Figure size 640x480 with 1 Axes>"
      ]
     },
     "metadata": {},
     "output_type": "display_data"
    }
   ],
   "source": [
    "import numpy as np\n",
    "import matplotlib.pyplot as plt\n",
    "\n",
    "# Set global font size\n",
    "plt.rcParams.update({'font.size': 25})\n",
    "# calculate sequence lengths\n",
    "lengths = [len(seq) for seq in pep_dic.values()]\n",
    "\n",
    "# define bins for your histogram\n",
    "bins = [0, 100, 200, 300, 400, 500, 600, 700, 800, 900, 1200, 1500, 2000, np.inf]\n",
    "\n",
    "# plot histogram\n",
    "plt.hist(lengths, bins=bins, edgecolor='black', density=True)\n",
    "\n",
    "# set xticks to be in the middle of the intervals\n",
    "plt.xticks([0, 900, 1500, 2000, 2500])\n",
    "\n",
    "plt.title('Length Distribution')\n",
    "plt.xlabel('Sequence Length')\n",
    "plt.ylabel('Frequency')\n",
    "\n",
    "plt.show()"
   ]
  },
  {
   "cell_type": "code",
   "execution_count": 23,
   "id": "b8becb0a",
   "metadata": {},
   "outputs": [
    {
     "name": "stdout",
     "output_type": "stream",
     "text": [
      "Ratio of sequences over 900 to total sequences: 0.04951392736614114\n"
     ]
    }
   ],
   "source": [
    "# calculate sequence lengths\n",
    "lengths = [len(seq) for seq in pep_dic.values()]\n",
    "\n",
    "# find lengths over 900\n",
    "over_900 = [length for length in lengths if length > 900]\n",
    "\n",
    "# calculate the ratio\n",
    "ratio = len(over_900) / len(lengths)\n",
    "\n",
    "print(f\"Ratio of sequences over 900 to total sequences: {ratio}\")"
   ]
  },
  {
   "cell_type": "markdown",
   "id": "28cf5dbb",
   "metadata": {},
   "source": [
    "#### calculate features "
   ]
  },
  {
   "cell_type": "code",
   "execution_count": 41,
   "id": "0bf967e3",
   "metadata": {},
   "outputs": [],
   "source": [
    "def pad_or_truncate(angles, fixed_length):\n",
    "    # 如果列表长度小于 fixed_length，则进行填充\n",
    "    if len(angles) < fixed_length:\n",
    "        angles += [0.0] * (fixed_length - len(angles))\n",
    "\n",
    "    # 如果列表长度大于 fixed_length，则进行截断\n",
    "    elif len(angles) > fixed_length:\n",
    "        angles = angles[:fixed_length]\n",
    "\n",
    "    return angles"
   ]
  },
  {
   "cell_type": "code",
   "execution_count": 42,
   "id": "71fca03c",
   "metadata": {},
   "outputs": [],
   "source": [
    "# distance matrix\n",
    "import numpy as np\n",
    "\n",
    "def adjust_vector(matrix):\n",
    "    column_means = matrix.mean(axis=0)\n",
    "    if len(column_means) > 900:\n",
    "        result = column_means[:900]\n",
    "    else:\n",
    "        result = np.pad(column_means, (0, 900 - len(column_means)), 'constant')\n",
    "\n",
    "    return result"
   ]
  },
  {
   "cell_type": "code",
   "execution_count": 43,
   "id": "c27d3716",
   "metadata": {
    "scrolled": true
   },
   "outputs": [
    {
     "name": "stderr",
     "output_type": "stream",
     "text": [
      "  2%|█▏                                                     | 423/19575 [12:12<4:25:33,  1.20it/s]"
     ]
    },
    {
     "name": "stdout",
     "output_type": "stream",
     "text": [
      "TMPO P42167\n"
     ]
    },
    {
     "name": "stderr",
     "output_type": "stream",
     "text": [
      "  4%|██▍                                                    | 848/19575 [21:35<5:39:40,  1.09s/it]"
     ]
    },
    {
     "name": "stdout",
     "output_type": "stream",
     "text": [
      "WFDC6 Q9BQY6\n"
     ]
    },
    {
     "name": "stderr",
     "output_type": "stream",
     "text": [
      "  6%|██▉                                                  | 1089/19575 [26:20<10:26:12,  2.03s/it]"
     ]
    },
    {
     "name": "stdout",
     "output_type": "stream",
     "text": [
      "SELENOH Q8IZQ5\n"
     ]
    },
    {
     "name": "stderr",
     "output_type": "stream",
     "text": [
      "  6%|███                                                   | 1132/19575 [27:10<6:50:50,  1.34s/it]"
     ]
    },
    {
     "name": "stdout",
     "output_type": "stream",
     "text": [
      "SMIM47 D0EPY3\n"
     ]
    },
    {
     "name": "stderr",
     "output_type": "stream",
     "text": [
      "  7%|███▌                                                  | 1285/19575 [30:25<8:29:43,  1.67s/it]"
     ]
    },
    {
     "name": "stdout",
     "output_type": "stream",
     "text": [
      "SELENOT P62341\n"
     ]
    },
    {
     "name": "stderr",
     "output_type": "stream",
     "text": [
      "  7%|███▉                                                  | 1418/19575 [34:46<6:03:52,  1.20s/it]"
     ]
    },
    {
     "name": "stdout",
     "output_type": "stream",
     "text": [
      "BBC3 Q9BXH1\n"
     ]
    },
    {
     "name": "stderr",
     "output_type": "stream",
     "text": [
      "  8%|████▎                                                 | 1556/19575 [38:02<4:56:05,  1.01it/s]"
     ]
    },
    {
     "name": "stdout",
     "output_type": "stream",
     "text": [
      "TRBJ1-2 A0A0J9YX06\n"
     ]
    },
    {
     "name": "stderr",
     "output_type": "stream",
     "text": [
      "  8%|████▎                                                 | 1571/19575 [38:27<8:40:05,  1.73s/it]"
     ]
    },
    {
     "name": "stdout",
     "output_type": "stream",
     "text": [
      "GPX2 P18283\n"
     ]
    },
    {
     "name": "stderr",
     "output_type": "stream",
     "text": [
      "  9%|████▉                                                 | 1777/19575 [42:45<4:41:26,  1.05it/s]"
     ]
    },
    {
     "name": "stdout",
     "output_type": "stream",
     "text": [
      "ZC3H11C P0DQW0\n"
     ]
    },
    {
     "name": "stderr",
     "output_type": "stream",
     "text": [
      " 10%|█████▎                                                | 1920/19575 [45:57<8:05:41,  1.65s/it]"
     ]
    },
    {
     "name": "stdout",
     "output_type": "stream",
     "text": [
      "TPRX2 P0DV77\n"
     ]
    },
    {
     "name": "stderr",
     "output_type": "stream",
     "text": [
      " 10%|█████▍                                                | 1960/19575 [46:47<6:45:31,  1.38s/it]"
     ]
    },
    {
     "name": "stdout",
     "output_type": "stream",
     "text": [
      "ZFTRAF1 P0DTL6\n"
     ]
    },
    {
     "name": "stderr",
     "output_type": "stream",
     "text": [
      " 11%|██████▏                                               | 2235/19575 [51:00<3:03:23,  1.58it/s]"
     ]
    },
    {
     "name": "stdout",
     "output_type": "stream",
     "text": [
      "SYT1 X6R8R1\n"
     ]
    },
    {
     "name": "stderr",
     "output_type": "stream",
     "text": [
      " 13%|██████▊                                               | 2460/19575 [54:07<2:59:59,  1.58it/s]"
     ]
    },
    {
     "name": "stdout",
     "output_type": "stream",
     "text": [
      "GOLGA6L26 P0DX02\n"
     ]
    },
    {
     "name": "stderr",
     "output_type": "stream",
     "text": [
      " 13%|██████▉                                               | 2499/19575 [55:04<4:30:14,  1.05it/s]"
     ]
    },
    {
     "name": "stdout",
     "output_type": "stream",
     "text": [
      "TRBJ1-1 A0A0J9YXA8\n"
     ]
    },
    {
     "name": "stderr",
     "output_type": "stream",
     "text": [
      " 13%|██████▉                                               | 2527/19575 [55:23<2:55:06,  1.62it/s]"
     ]
    },
    {
     "name": "stdout",
     "output_type": "stream",
     "text": [
      "IGHD1-1 P0DOY5\n"
     ]
    },
    {
     "name": "stderr",
     "output_type": "stream",
     "text": [
      " 13%|███████▏                                              | 2610/19575 [56:10<4:02:06,  1.17it/s]"
     ]
    },
    {
     "name": "stdout",
     "output_type": "stream",
     "text": [
      "GPX1 P07203\n"
     ]
    },
    {
     "name": "stderr",
     "output_type": "stream",
     "text": [
      " 16%|████████                                            | 3046/19575 [1:03:21<9:08:55,  1.99s/it]"
     ]
    },
    {
     "name": "stdout",
     "output_type": "stream",
     "text": [
      "TAF11L8 P0DW13\n"
     ]
    },
    {
     "name": "stderr",
     "output_type": "stream",
     "text": [
      " 17%|█████████                                           | 3417/19575 [1:10:31<3:42:29,  1.21it/s]"
     ]
    },
    {
     "name": "stdout",
     "output_type": "stream",
     "text": [
      "POLR2M Q6EEV4\n"
     ]
    },
    {
     "name": "stderr",
     "output_type": "stream",
     "text": [
      " 18%|█████████▍                                          | 3571/19575 [1:13:24<5:48:17,  1.31s/it]"
     ]
    },
    {
     "name": "stdout",
     "output_type": "stream",
     "text": [
      "FAM90A19 P0DV76\n"
     ]
    },
    {
     "name": "stderr",
     "output_type": "stream",
     "text": [
      " 21%|██████████▊                                         | 4081/19575 [1:25:05<6:32:39,  1.52s/it]"
     ]
    },
    {
     "name": "stdout",
     "output_type": "stream",
     "text": [
      "TRBJ2-5 A0A0A0MTA4\n"
     ]
    },
    {
     "name": "stderr",
     "output_type": "stream",
     "text": [
      " 22%|███████████▎                                        | 4240/19575 [1:28:38<4:55:13,  1.16s/it]"
     ]
    },
    {
     "name": "stdout",
     "output_type": "stream",
     "text": [
      "TMEM276 P0DTL5\n"
     ]
    },
    {
     "name": "stderr",
     "output_type": "stream",
     "text": [
      " 22%|███████████▍                                        | 4285/19575 [1:29:41<5:48:07,  1.37s/it]"
     ]
    },
    {
     "name": "stdout",
     "output_type": "stream",
     "text": [
      "TOR2A Q8N2E6\n"
     ]
    },
    {
     "name": "stderr",
     "output_type": "stream",
     "text": [
      " 23%|███████████▊                                        | 4433/19575 [1:33:02<5:21:21,  1.27s/it]"
     ]
    },
    {
     "name": "stdout",
     "output_type": "stream",
     "text": [
      "SELENOI Q9C0D9\n"
     ]
    },
    {
     "name": "stderr",
     "output_type": "stream",
     "text": [
      " 23%|████████████▏                                       | 4570/19575 [1:35:49<5:31:08,  1.32s/it]"
     ]
    },
    {
     "name": "stdout",
     "output_type": "stream",
     "text": [
      "CALCA P06881\n"
     ]
    },
    {
     "name": "stderr",
     "output_type": "stream",
     "text": [
      " 25%|█████████████▏                                      | 4974/19575 [1:46:04<7:11:47,  1.77s/it]"
     ]
    },
    {
     "name": "stdout",
     "output_type": "stream",
     "text": [
      "POLGARF A0A3B3IS91\n"
     ]
    },
    {
     "name": "stderr",
     "output_type": "stream",
     "text": [
      " 28%|██████████████▋                                     | 5527/19575 [1:58:06<4:50:01,  1.24s/it]"
     ]
    },
    {
     "name": "stdout",
     "output_type": "stream",
     "text": [
      "HRURF P0DUH7\n"
     ]
    },
    {
     "name": "stderr",
     "output_type": "stream",
     "text": [
      " 29%|███████████████▏                                    | 5706/19575 [2:03:38<8:17:24,  2.15s/it]"
     ]
    },
    {
     "name": "stdout",
     "output_type": "stream",
     "text": [
      "LY6S P0DTL4\n"
     ]
    },
    {
     "name": "stderr",
     "output_type": "stream",
     "text": [
      " 30%|███████████████▎                                    | 5775/19575 [2:06:41<9:02:39,  2.36s/it]"
     ]
    },
    {
     "name": "stdout",
     "output_type": "stream",
     "text": [
      "GOLGA6L24 P0DX00\n"
     ]
    },
    {
     "name": "stderr",
     "output_type": "stream",
     "text": [
      " 30%|███████████████▍                                    | 5811/19575 [2:07:58<7:06:10,  1.86s/it]"
     ]
    },
    {
     "name": "stdout",
     "output_type": "stream",
     "text": [
      "TOMT Q96E66\n"
     ]
    },
    {
     "name": "stderr",
     "output_type": "stream",
     "text": [
      " 30%|███████████████▊                                    | 5967/19575 [2:09:43<6:21:16,  1.68s/it]"
     ]
    },
    {
     "name": "stdout",
     "output_type": "stream",
     "text": [
      "SIRPB1 Q5TFQ8\n"
     ]
    },
    {
     "name": "stderr",
     "output_type": "stream",
     "text": [
      " 31%|████████████████▏                                   | 6072/19575 [2:12:26<7:28:06,  1.99s/it]"
     ]
    },
    {
     "name": "stdout",
     "output_type": "stream",
     "text": [
      "CTAGE1 Q9HC47\n"
     ]
    },
    {
     "name": "stderr",
     "output_type": "stream",
     "text": [
      " 33%|█████████████████                                   | 6421/19575 [2:21:50<7:58:08,  2.18s/it]"
     ]
    },
    {
     "name": "stdout",
     "output_type": "stream",
     "text": [
      "TAF11L7 P0DW12\n"
     ]
    },
    {
     "name": "stderr",
     "output_type": "stream",
     "text": [
      " 35%|██████████████████▏                                 | 6842/19575 [2:31:43<7:03:34,  2.00s/it]"
     ]
    },
    {
     "name": "stdout",
     "output_type": "stream",
     "text": [
      "TOR1A Q9H496\n"
     ]
    },
    {
     "name": "stderr",
     "output_type": "stream",
     "text": [
      " 36%|██████████████████▉                                 | 7139/19575 [2:40:02<7:50:30,  2.27s/it]"
     ]
    },
    {
     "name": "stdout",
     "output_type": "stream",
     "text": [
      "SYT15 X6R8R1\n"
     ]
    },
    {
     "name": "stderr",
     "output_type": "stream",
     "text": [
      " 37%|███████████████████                                 | 7184/19575 [2:41:24<6:51:08,  1.99s/it]"
     ]
    },
    {
     "name": "stdout",
     "output_type": "stream",
     "text": [
      "DIO3 P55073\n"
     ]
    },
    {
     "name": "stderr",
     "output_type": "stream",
     "text": [
      " 38%|███████████████████▌                                | 7380/19575 [2:47:30<5:47:59,  1.71s/it]"
     ]
    },
    {
     "name": "stdout",
     "output_type": "stream",
     "text": [
      "LRRC51 Q96E66\n"
     ]
    },
    {
     "name": "stderr",
     "output_type": "stream",
     "text": [
      " 38%|███████████████████▉                                | 7512/19575 [2:51:57<6:27:03,  1.93s/it]"
     ]
    },
    {
     "name": "stdout",
     "output_type": "stream",
     "text": [
      "TUNAR A0A1B0GTB2\n"
     ]
    },
    {
     "name": "stderr",
     "output_type": "stream",
     "text": [
      " 39%|████████████████████                                | 7575/19575 [2:53:49<5:43:08,  1.72s/it]"
     ]
    },
    {
     "name": "stdout",
     "output_type": "stream",
     "text": [
      "SMIM46 P0DQW1\n"
     ]
    },
    {
     "name": "stderr",
     "output_type": "stream",
     "text": [
      " 40%|████████████████████▌                               | 7754/19575 [2:59:45<6:42:14,  2.04s/it]"
     ]
    },
    {
     "name": "stdout",
     "output_type": "stream",
     "text": [
      "SELENOM Q8WWX9\n"
     ]
    },
    {
     "name": "stderr",
     "output_type": "stream",
     "text": [
      " 40%|████████████████████▋                               | 7771/19575 [3:00:13<4:24:43,  1.35s/it]"
     ]
    },
    {
     "name": "stdout",
     "output_type": "stream",
     "text": [
      "IGKJ1 A0A0A0MT89\n"
     ]
    },
    {
     "name": "stderr",
     "output_type": "stream",
     "text": [
      " 46%|███████████████████████▋                            | 8910/19575 [3:34:30<4:14:19,  1.43s/it]"
     ]
    },
    {
     "name": "stdout",
     "output_type": "stream",
     "text": [
      "HFM1 P60896\n"
     ]
    },
    {
     "name": "stderr",
     "output_type": "stream",
     "text": [
      " 46%|███████████████████████▉                            | 9016/19575 [3:37:57<5:27:50,  1.86s/it]"
     ]
    },
    {
     "name": "stdout",
     "output_type": "stream",
     "text": [
      "SYT15B X6R8R1\n"
     ]
    },
    {
     "name": "stderr",
     "output_type": "stream",
     "text": [
      " 46%|████████████████████████▏                           | 9100/19575 [3:40:49<4:44:07,  1.63s/it]"
     ]
    },
    {
     "name": "stdout",
     "output_type": "stream",
     "text": [
      "SELENOW P63302\n"
     ]
    },
    {
     "name": "stderr",
     "output_type": "stream",
     "text": [
      " 48%|████████████████████████▊                           | 9328/19575 [3:47:32<5:46:58,  2.03s/it]"
     ]
    },
    {
     "name": "stdout",
     "output_type": "stream",
     "text": [
      "SELENOF O60613\n"
     ]
    },
    {
     "name": "stderr",
     "output_type": "stream",
     "text": [
      " 48%|████████████████████████▊                           | 9361/19575 [3:48:26<4:07:44,  1.46s/it]"
     ]
    },
    {
     "name": "stdout",
     "output_type": "stream",
     "text": [
      "HMSD P0C7T4\n"
     ]
    },
    {
     "name": "stderr",
     "output_type": "stream",
     "text": [
      " 48%|█████████████████████████                           | 9453/19575 [3:51:26<5:31:41,  1.97s/it]"
     ]
    },
    {
     "name": "stdout",
     "output_type": "stream",
     "text": [
      "GOLGA6L25 P0DX01\n"
     ]
    },
    {
     "name": "stderr",
     "output_type": "stream",
     "text": [
      " 49%|█████████████████████████▋                          | 9689/19575 [3:55:25<3:19:02,  1.21s/it]"
     ]
    },
    {
     "name": "stdout",
     "output_type": "stream",
     "text": [
      "SELENOO Q9BVL4\n"
     ]
    },
    {
     "name": "stderr",
     "output_type": "stream",
     "text": [
      " 50%|█████████████████████████▉                          | 9748/19575 [3:56:35<6:31:24,  2.39s/it]"
     ]
    },
    {
     "name": "stdout",
     "output_type": "stream",
     "text": [
      "TMSB15C P0DX04\n"
     ]
    },
    {
     "name": "stderr",
     "output_type": "stream",
     "text": [
      " 50%|██████████████████████████▏                         | 9851/19575 [3:59:15<3:50:17,  1.42s/it]"
     ]
    },
    {
     "name": "stdout",
     "output_type": "stream",
     "text": [
      "TRBD1 P0DPI4\n"
     ]
    },
    {
     "name": "stderr",
     "output_type": "stream",
     "text": [
      " 52%|██████████████████████████▋                        | 10245/19575 [4:08:47<2:51:08,  1.10s/it]"
     ]
    },
    {
     "name": "stdout",
     "output_type": "stream",
     "text": [
      "SELENOK Q9Y6D0\n"
     ]
    },
    {
     "name": "stderr",
     "output_type": "stream",
     "text": [
      " 53%|██████████████████████████▊                        | 10293/19575 [4:09:45<4:15:14,  1.65s/it]"
     ]
    },
    {
     "name": "stdout",
     "output_type": "stream",
     "text": [
      "CUX1 Q13948\n"
     ]
    },
    {
     "name": "stderr",
     "output_type": "stream",
     "text": [
      " 55%|███████████████████████████▉                       | 10745/19575 [4:17:58<2:17:09,  1.07it/s]"
     ]
    },
    {
     "name": "stdout",
     "output_type": "stream",
     "text": [
      "GNG5B A0A804HLA8\n"
     ]
    },
    {
     "name": "stderr",
     "output_type": "stream",
     "text": [
      " 56%|████████████████████████████▊                      | 11035/19575 [4:23:10<2:19:57,  1.02it/s]"
     ]
    },
    {
     "name": "stdout",
     "output_type": "stream",
     "text": [
      "GPX4 P36969\n"
     ]
    },
    {
     "name": "stderr",
     "output_type": "stream",
     "text": [
      " 58%|█████████████████████████████▊                     | 11443/19575 [4:32:25<4:00:02,  1.77s/it]"
     ]
    },
    {
     "name": "stdout",
     "output_type": "stream",
     "text": [
      "RPSA2 A0A8I5KQE6\n"
     ]
    },
    {
     "name": "stderr",
     "output_type": "stream",
     "text": [
      " 60%|██████████████████████████████▍                    | 11699/19575 [4:40:11<2:59:45,  1.37s/it]"
     ]
    },
    {
     "name": "stdout",
     "output_type": "stream",
     "text": [
      "TOR1AIP2 Q9H496\n"
     ]
    },
    {
     "name": "stderr",
     "output_type": "stream",
     "text": [
      " 64%|█████████████████████████████████▊                   | 12497/19575 [4:53:21<52:07,  2.26it/s]"
     ]
    },
    {
     "name": "stdout",
     "output_type": "stream",
     "text": [
      "DIO1 P49895\n"
     ]
    },
    {
     "name": "stderr",
     "output_type": "stream",
     "text": [
      " 67%|█████████████████████████████████▉                 | 13024/19575 [4:58:16<1:02:07,  1.76it/s]"
     ]
    },
    {
     "name": "stdout",
     "output_type": "stream",
     "text": [
      "SPDYE10 P0DUX0\n"
     ]
    },
    {
     "name": "stderr",
     "output_type": "stream",
     "text": [
      " 67%|███████████████████████████████████▎                 | 13028/19575 [4:58:17<43:24,  2.51it/s]"
     ]
    },
    {
     "name": "stdout",
     "output_type": "stream",
     "text": [
      "PRAMEF15 P0DUQ1\n"
     ]
    },
    {
     "name": "stderr",
     "output_type": "stream",
     "text": [
      " 68%|██████████████████████████████████▍                | 13229/19575 [5:00:40<1:03:57,  1.65it/s]"
     ]
    },
    {
     "name": "stdout",
     "output_type": "stream",
     "text": [
      "SPDYE12 P0DUX1\n"
     ]
    },
    {
     "name": "stderr",
     "output_type": "stream",
     "text": [
      " 68%|██████████████████████████████████▉                | 13392/19575 [5:02:26<1:32:57,  1.11it/s]"
     ]
    },
    {
     "name": "stdout",
     "output_type": "stream",
     "text": [
      "SELENOV P59797\n"
     ]
    },
    {
     "name": "stderr",
     "output_type": "stream",
     "text": [
      " 71%|███████████████████████████████████▉               | 13811/19575 [5:07:01<1:13:25,  1.31it/s]"
     ]
    },
    {
     "name": "stdout",
     "output_type": "stream",
     "text": [
      "MSRB1 Q9NZV6\n"
     ]
    },
    {
     "name": "stderr",
     "output_type": "stream",
     "text": [
      " 71%|████████████████████████████████████▍              | 13978/19575 [5:08:57<1:42:32,  1.10s/it]"
     ]
    },
    {
     "name": "stdout",
     "output_type": "stream",
     "text": [
      "FAM90A18 P0DV75\n"
     ]
    },
    {
     "name": "stderr",
     "output_type": "stream",
     "text": [
      " 73%|██████████████████████████████████████▊              | 14350/19575 [5:15:52<40:08,  2.17it/s]"
     ]
    },
    {
     "name": "stdout",
     "output_type": "stream",
     "text": [
      "SLCO1B3-SLCO1B7 F5H094\n"
     ]
    },
    {
     "name": "stderr",
     "output_type": "stream",
     "text": [
      " 74%|██████████████████████████████████████▉              | 14388/19575 [5:16:15<55:18,  1.56it/s]"
     ]
    },
    {
     "name": "stdout",
     "output_type": "stream",
     "text": [
      "LCE7A P0DV60\n"
     ]
    },
    {
     "name": "stderr",
     "output_type": "stream",
     "text": [
      " 74%|█████████████████████████████████████▋             | 14483/19575 [5:17:09<1:02:56,  1.35it/s]"
     ]
    },
    {
     "name": "stdout",
     "output_type": "stream",
     "text": [
      "FRG1 Q9H496\n"
     ]
    },
    {
     "name": "stderr",
     "output_type": "stream",
     "text": [
      " 79%|████████████████████████████████████████▏          | 15427/19575 [5:31:23<1:05:57,  1.05it/s]"
     ]
    },
    {
     "name": "stdout",
     "output_type": "stream",
     "text": [
      "FAU P62861\n"
     ]
    },
    {
     "name": "stderr",
     "output_type": "stream",
     "text": [
      " 79%|█████████████████████████████████████████▊           | 15456/19575 [5:31:47<46:13,  1.49it/s]"
     ]
    },
    {
     "name": "stdout",
     "output_type": "stream",
     "text": [
      "FAM90A16 P0DV73\n"
     ]
    },
    {
     "name": "stderr",
     "output_type": "stream",
     "text": [
      " 80%|██████████████████████████████████████████▌          | 15734/19575 [5:35:43<43:02,  1.49it/s]"
     ]
    },
    {
     "name": "stdout",
     "output_type": "stream",
     "text": [
      "SELENON Q9NZV5\n"
     ]
    },
    {
     "name": "stderr",
     "output_type": "stream",
     "text": [
      " 81%|███████████████████████████████████████████▏         | 15933/19575 [5:38:37<59:10,  1.03it/s]"
     ]
    },
    {
     "name": "stdout",
     "output_type": "stream",
     "text": [
      "SEPHS2 Q99611\n"
     ]
    },
    {
     "name": "stderr",
     "output_type": "stream",
     "text": [
      " 82%|█████████████████████████████████████████▌         | 15971/19575 [5:39:25<1:07:16,  1.12s/it]"
     ]
    },
    {
     "name": "stdout",
     "output_type": "stream",
     "text": [
      "SELENOS Q9BQE4\n"
     ]
    },
    {
     "name": "stderr",
     "output_type": "stream",
     "text": [
      " 82%|█████████████████████████████████████████▋         | 16006/19575 [5:40:03<1:00:27,  1.02s/it]"
     ]
    },
    {
     "name": "stdout",
     "output_type": "stream",
     "text": [
      "LRTOMT Q96E66\n"
     ]
    },
    {
     "name": "stderr",
     "output_type": "stream",
     "text": [
      " 84%|████████████████████████████████████████████▍        | 16405/19575 [5:46:17<46:55,  1.13it/s]"
     ]
    },
    {
     "name": "stdout",
     "output_type": "stream",
     "text": [
      "TAF11L6 P0DW11\n"
     ]
    },
    {
     "name": "stderr",
     "output_type": "stream",
     "text": [
      " 87%|██████████████████████████████████████████████       | 17034/19575 [5:55:36<27:14,  1.56it/s]"
     ]
    },
    {
     "name": "stdout",
     "output_type": "stream",
     "text": [
      "GPX3 P22352\n"
     ]
    },
    {
     "name": "stderr",
     "output_type": "stream",
     "text": [
      " 87%|██████████████████████████████████████████████▎      | 17082/19575 [5:56:20<38:34,  1.08it/s]"
     ]
    },
    {
     "name": "stdout",
     "output_type": "stream",
     "text": [
      "PRAMEF9 P0DUQ2\n"
     ]
    },
    {
     "name": "stderr",
     "output_type": "stream",
     "text": [
      " 88%|██████████████████████████████████████████████▌      | 17217/19575 [5:58:14<33:02,  1.19it/s]"
     ]
    },
    {
     "name": "stdout",
     "output_type": "stream",
     "text": [
      "MOCS2 O96033\n"
     ]
    },
    {
     "name": "stderr",
     "output_type": "stream",
     "text": [
      " 90%|███████████████████████████████████████████████▍     | 17538/19575 [6:01:25<13:09,  2.58it/s]"
     ]
    },
    {
     "name": "stdout",
     "output_type": "stream",
     "text": [
      "DIO2 Q92813\n"
     ]
    },
    {
     "name": "stderr",
     "output_type": "stream",
     "text": [
      " 91%|████████████████████████████████████████████████▏    | 17788/19575 [6:04:48<19:48,  1.50it/s]"
     ]
    },
    {
     "name": "stdout",
     "output_type": "stream",
     "text": [
      "TXNRD1 Q16881\n"
     ]
    },
    {
     "name": "stderr",
     "output_type": "stream",
     "text": [
      " 94%|██████████████████████████████████████████████████   | 18483/19575 [6:14:04<09:27,  1.92it/s]"
     ]
    },
    {
     "name": "stdout",
     "output_type": "stream",
     "text": [
      "SELENOP P49908\n"
     ]
    },
    {
     "name": "stderr",
     "output_type": "stream",
     "text": [
      " 95%|██████████████████████████████████████████████████▏  | 18523/19575 [6:14:28<14:54,  1.18it/s]"
     ]
    },
    {
     "name": "stdout",
     "output_type": "stream",
     "text": [
      "TRBJ2-7 A0A0A0MT78\n"
     ]
    },
    {
     "name": "stderr",
     "output_type": "stream",
     "text": [
      " 95%|██████████████████████████████████████████████████▎  | 18578/19575 [6:15:06<13:59,  1.19it/s]"
     ]
    },
    {
     "name": "stdout",
     "output_type": "stream",
     "text": [
      "SPDYE18 P0DV79\n"
     ]
    },
    {
     "name": "stderr",
     "output_type": "stream",
     "text": [
      " 95%|██████████████████████████████████████████████████▍  | 18632/19575 [6:15:50<10:34,  1.49it/s]"
     ]
    },
    {
     "name": "stdout",
     "output_type": "stream",
     "text": [
      "TXNRD2 Q9NNW7\n"
     ]
    },
    {
     "name": "stderr",
     "output_type": "stream",
     "text": [
      " 95%|██████████████████████████████████████████████████▌  | 18688/19575 [6:16:29<09:28,  1.56it/s]"
     ]
    },
    {
     "name": "stdout",
     "output_type": "stream",
     "text": [
      "CCDC92B A0A8I5KY20\n"
     ]
    },
    {
     "name": "stderr",
     "output_type": "stream",
     "text": [
      " 97%|███████████████████████████████████████████████████▍ | 19008/19575 [6:21:31<08:31,  1.11it/s]"
     ]
    },
    {
     "name": "stdout",
     "output_type": "stream",
     "text": [
      "TAF11L10 P0DW14\n"
     ]
    },
    {
     "name": "stderr",
     "output_type": "stream",
     "text": [
      " 98%|███████████████████████████████████████████████████▊ | 19149/19575 [6:23:14<04:29,  1.58it/s]"
     ]
    },
    {
     "name": "stdout",
     "output_type": "stream",
     "text": [
      "TRDD1 P0DPR3\n"
     ]
    },
    {
     "name": "stderr",
     "output_type": "stream",
     "text": [
      "100%|████████████████████████████████████████████████████▊| 19489/19575 [6:27:10<01:07,  1.27it/s]"
     ]
    },
    {
     "name": "stdout",
     "output_type": "stream",
     "text": [
      "FAM90A17 P0DV74\n"
     ]
    },
    {
     "name": "stderr",
     "output_type": "stream",
     "text": [
      "100%|████████████████████████████████████████████████████▉| 19553/19575 [6:27:52<00:16,  1.36it/s]"
     ]
    },
    {
     "name": "stdout",
     "output_type": "stream",
     "text": [
      "H2BN1 P0DW85\n"
     ]
    },
    {
     "name": "stderr",
     "output_type": "stream",
     "text": [
      "100%|█████████████████████████████████████████████████████| 19575/19575 [6:28:07<00:00,  1.19s/it]\n"
     ]
    }
   ],
   "source": [
    "# structure dic\n",
    "\n",
    "cds_structure_dic = {}\n",
    "\n",
    "for k,v in tqdm(name_entry_dic.items()):\n",
    "    try:\n",
    "        \n",
    "        # two angles\n",
    "        pdb_file = '/data1/xpgeng/2024RECOMB/HomoAlphaFold/' + 'AF-' + name_entry_dic[k] +'-F1-model_v4.pdb'  # replace with your PDB file path\n",
    "        structure = PDBParser().get_structure('pdb_id', pdb_file)\n",
    "        angles = []\n",
    "        for model in structure:\n",
    "            for chain in model:\n",
    "                try:\n",
    "                    dssp = DSSP(model, pdb_file, dssp='mkdssp')\n",
    "                    for key in dssp.keys():\n",
    "                        angles.append((dssp[key][4] + dssp[key][5])/2)\n",
    "                except Exception as e:\n",
    "                    print(f\"Failed to run DSSP on chain {chain.id} with error {e}\")         \n",
    "        angles = pad_or_truncate(angles, 900)\n",
    "                   \n",
    "        # distance matrix\n",
    "        coords = [atom.get_coord() for atom in structure.get_atoms() if atom.get_name() == 'CA']\n",
    "        matrix = distance_matrix(coords, coords)\n",
    "        distance_900 =  adjust_vector(matrix).tolist()\n",
    "               \n",
    "        cds_structure_dic[k] = angles + distance_900\n",
    "    except:\n",
    "        print(k, v)"
   ]
  },
  {
   "cell_type": "code",
   "execution_count": 45,
   "id": "e5b3f013",
   "metadata": {},
   "outputs": [],
   "source": [
    "''\n",
    "with open('cds_structure_features_dic_1800.pkl', 'wb') as f:\n",
    "    pickle.dump(cds_structure_dic, f)"
   ]
  },
  {
   "cell_type": "code",
   "execution_count": 3,
   "id": "338e6964",
   "metadata": {},
   "outputs": [],
   "source": [
    "''''\n",
    "with open('cds_structure_features_dic_1800.pkl', 'rb') as f:    \n",
    "    cds_structure_dic = pickle.load(f)"
   ]
  },
  {
   "cell_type": "code",
   "execution_count": null,
   "id": "8d488302",
   "metadata": {},
   "outputs": [],
   "source": []
  }
 ],
 "metadata": {
  "kernelspec": {
   "display_name": "Python [conda env:.conda-pytorch] *",
   "language": "python",
   "name": "conda-env-.conda-pytorch-py"
  },
  "language_info": {
   "codemirror_mode": {
    "name": "ipython",
    "version": 3
   },
   "file_extension": ".py",
   "mimetype": "text/x-python",
   "name": "python",
   "nbconvert_exporter": "python",
   "pygments_lexer": "ipython3",
   "version": "3.8.16"
  }
 },
 "nbformat": 4,
 "nbformat_minor": 5
}
